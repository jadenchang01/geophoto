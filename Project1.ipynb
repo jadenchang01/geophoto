{
  "nbformat": 4,
  "nbformat_minor": 0,
  "metadata": {
    "colab": {
      "provenance": [],
      "authorship_tag": "ABX9TyMtaYPl4hla2i3ZSuOsHOkZ",
      "include_colab_link": true
    },
    "kernelspec": {
      "name": "python3",
      "display_name": "Python 3"
    },
    "language_info": {
      "name": "python"
    }
  },
  "cells": [
    {
      "cell_type": "markdown",
      "metadata": {
        "id": "view-in-github",
        "colab_type": "text"
      },
      "source": [
        "<a href=\"https://colab.research.google.com/github/jadenchang01/geophoto/blob/main/Project1.ipynb\" target=\"_parent\"><img src=\"https://colab.research.google.com/assets/colab-badge.svg\" alt=\"Open In Colab\"/></a>"
      ]
    },
    {
      "cell_type": "markdown",
      "source": [
        "**makeFolder implementation**"
      ],
      "metadata": {
        "id": "bTakhMiS0dzS"
      }
    },
    {
      "cell_type": "code",
      "execution_count": null,
      "metadata": {
        "id": "ROikg7DFoGQq"
      },
      "outputs": [],
      "source": [
        "from pathlib import Path\n",
        "\n",
        "def makeFolder(country, city, year):\n",
        "  \"\"\"\n",
        "  Creates a nested folder structure within the Colab environment.\n",
        "\n",
        "  Args:\n",
        "    country: The country name.\n",
        "    city: The city name.\n",
        "    year: The year.\n",
        "  \"\"\"\n",
        "#*************DEPENDS ON PC DIRECTORY**********************************\n",
        "  base_path = Path(\"/content\")\n",
        "\n",
        "  folder_path = base_path / str(year) / country / city\n",
        "  folder_path.mkdir(parents=True, exist_ok=True)\n",
        "  return folder_path"
      ]
    },
    {
      "cell_type": "markdown",
      "source": [
        "Test cases for makeFolder below"
      ],
      "metadata": {
        "id": "DzLTNJspqwg3"
      }
    },
    {
      "cell_type": "code",
      "metadata": {
        "colab": {
          "base_uri": "https://localhost:8080/"
        },
        "id": "0e08b645",
        "outputId": "2868c097-608f-4d2e-c7a9-79aab558ccb4"
      },
      "source": [
        "# Call the makeFolder function to create the directory\n",
        "makeFolder(\"Kenya\", \"Nairobi\", 2023)\n",
        "makeFolder(\"Korea\", \"Seoul\", 2023)\n",
        "makeFolder(\"Korea\", \"Busan\", 2023)"
      ],
      "execution_count": null,
      "outputs": [
        {
          "output_type": "execute_result",
          "data": {
            "text/plain": [
              "PosixPath('/content/2023/Korea/Busan')"
            ]
          },
          "metadata": {},
          "execution_count": 2
        }
      ]
    },
    {
      "cell_type": "markdown",
      "source": [
        "**sortDate implementation**"
      ],
      "metadata": {
        "id": "zr-Sz7dq0UTn"
      }
    },
    {
      "cell_type": "code",
      "source": [
        "from pathlib import Path\n",
        "import os\n",
        "\n",
        "def sortDate(path):\n",
        "  \"\"\"\n",
        "  Sorts files in a directory by their modification date and renames them\n",
        "  with a numerical prefix to reflect the sorted order.\n",
        "\n",
        "  Args:\n",
        "    path: The path to the directory containing the files.\n",
        "  \"\"\"\n",
        "  path = Path(path)\n",
        "  files = [f for f in path.iterdir() if f.is_file()]\n",
        "  files.sort(key=lambda x: os.path.getmtime(x))\n",
        "\n",
        "  # Rename files with a numerical prefix to reflect the sorted order\n",
        "  for i, old_file_path in enumerate(files):\n",
        "    new_file_name = f\"{i+1:03d}_{old_file_path.name}\"\n",
        "    new_file_path = path / new_file_name\n",
        "    os.rename(old_file_path, new_file_path)"
      ],
      "metadata": {
        "id": "vbeT9ksdxuQx"
      },
      "execution_count": null,
      "outputs": []
    },
    {
      "cell_type": "markdown",
      "source": [
        "Test cases for sortDate(), testing order"
      ],
      "metadata": {
        "id": "eqUECZ90zLac"
      }
    },
    {
      "cell_type": "code",
      "metadata": {
        "colab": {
          "base_uri": "https://localhost:8080/"
        },
        "id": "3061b4af",
        "outputId": "2535bf2b-0525-4640-8f2f-cf767df45661"
      },
      "source": [
        "import os\n",
        "import time\n",
        "from pathlib import Path\n",
        "\n",
        "# Define the path to the test directory\n",
        "test_dir = Path(\"/content/2023/Korea/Busan\")\n",
        "\n",
        "# Create dummy image files with different modification times\n",
        "file1_path = test_dir / \"image1.jpg\"\n",
        "file2_path = test_dir / \"image2.jpg\"\n",
        "file3_path = test_dir / \"image3.jpg\"\n",
        "\n",
        "# Create empty files\n",
        "file1_path.touch()\n",
        "file2_path.touch()\n",
        "file3_path.touch()\n",
        "\n",
        "# Set modification times (using timestamps)\n",
        "# time.mktime((year, month, day, hour, minute, second, weekday, yearday, dst))\n",
        "os.utime(file1_path, (time.time(), time.mktime((2023, 10, 26, 10, 0, 0, 0, 0, 0))))\n",
        "os.utime(file2_path, (time.time(), time.mktime((2023, 10, 25, 12, 0, 0, 0, 0, 0))))\n",
        "os.utime(file3_path, (time.time(), time.mktime((2023, 10, 27, 9, 0, 0, 0, 0, 0))))\n",
        "\n",
        "print(f\"Created sample files in: {test_dir}\")\n",
        "\n",
        "sortDate(\"/content/2023/Korea/Busan\")"
      ],
      "execution_count": null,
      "outputs": [
        {
          "output_type": "stream",
          "name": "stdout",
          "text": [
            "Created sample files in: /content/2023/Korea/Busan\n"
          ]
        }
      ]
    },
    {
      "cell_type": "markdown",
      "source": [
        "moveFolder()"
      ],
      "metadata": {
        "id": "8lrNoBykA9eZ"
      }
    },
    {
      "cell_type": "code",
      "source": [
        "def moveFolder(imageId, country, city, year, sourceFolder):\n",
        "  \"\"\"\n",
        "  Moves an image file from a source folder to a destination folder based on the country, city, and year.\n",
        "\n",
        "  Args:\n",
        "    imageId: The name of the image file (e.g., \"image1.jpg\").\n",
        "    country: The destination country name (e.g., \"Korea\").\n",
        "    city: The destination city name (e.g., \"Seoul\").\n",
        "    year: The destination year (e.g., 2023).\n",
        "    sourceFolder: The path to the source folder where the image is located.\n",
        "  \"\"\"\n",
        "  # Construct the source and destination paths, parse pinId depending on its implementation\n",
        "  source_path = Path(sourceFolder) / imageId\n",
        "  destination_folder = Path(\"/content\") / str(year) / country / city\n",
        "\n",
        "  # Check if the destination folder exists\n",
        "  if not destination_folder.exists() or not destination_folder.is_dir():\n",
        "    raise FileNotFoundError(f\"Destination folder '{destination_folder}' not found.\")\n",
        "  destination_path = destination_folder / imageId\n",
        "\n",
        "  # Move the file\n",
        "  try:\n",
        "    os.rename(source_path, destination_path)\n",
        "    print(f\"Moved '{imageId}' from '{sourceFolder}' to '{destination_folder}'\")\n",
        "  except FileNotFoundError:\n",
        "    print(f\"Error: File '{imageId}' not found in '{sourceFolder}'\")\n",
        "  except Exception as e:\n",
        "    print(f\"An error occurred while moving the file: {e}\")"
      ],
      "metadata": {
        "id": "QbbqsP5dA8TR"
      },
      "execution_count": null,
      "outputs": []
    },
    {
      "cell_type": "markdown",
      "source": [
        "viewFolder()"
      ],
      "metadata": {
        "id": "t_M9tEgw2iZP"
      }
    },
    {
      "cell_type": "code",
      "source": [
        "import os\n",
        "from pathlib import Path\n",
        "\n",
        "def viewFolder(country, city, year):\n",
        "  \"\"\"\n",
        "  Retrieves image files from a specified folder and returns a list of image objects with metadata.\n",
        "\n",
        "  Args:\n",
        "    country: The country name.\n",
        "    city: The city name.\n",
        "    year: The year.\n",
        "\n",
        "  Returns:\n",
        "    A list of dictionaries, where each dictionary represents an image with 'id', 'name', 'url', 'year', and 'location'.\n",
        "  \"\"\"\n",
        "  folder_path = Path(\"/content\") / str(year) / country / city\n",
        "  image_list = []\n",
        "\n",
        "  if folder_path.exists() and folder_path.is_dir():\n",
        "    for file_path in folder_path.iterdir():\n",
        "      if file_path.is_file():\n",
        "        # In a real application, you would generate actual URLs or paths accessible by the frontend\n",
        "        # For this example, we'll use a placeholder URL and the file name as the id\n",
        "        image_list.append({\n",
        "            \"id\": file_path.name, # Using file name as a simple ID\n",
        "            \"name\": file_path.name,\n",
        "            \"url\": f\"/content/{year}/{country}/{city}/{file_path.name}\", # Placeholder URL\n",
        "            \"year\": year,\n",
        "            \"location\": city\n",
        "        })\n",
        "  return image_list"
      ],
      "metadata": {
        "id": "db1UcVDO1nJb"
      },
      "execution_count": null,
      "outputs": []
    },
    {
      "cell_type": "markdown",
      "source": [
        "Test cases"
      ],
      "metadata": {
        "id": "PriGV3rvEnud"
      }
    },
    {
      "cell_type": "code",
      "metadata": {
        "colab": {
          "base_uri": "https://localhost:8080/"
        },
        "id": "5700cc11",
        "outputId": "e01d60c4-f9c1-40c7-82eb-b6a95ab7cd0d"
      },
      "source": [
        "import os\n",
        "from pathlib import Path\n",
        "\n",
        "# Define source and destination folders for testing\n",
        "source_folder = Path(\"/content/2023/Korea/Busan\")\n",
        "destination_folder = Path(\"/content/2023/Korea/Seoul\")\n",
        "sample_image_name = \"001_image2.jpg\"\n",
        "\n",
        "clickandDrag(sample_image_name, \"Korea\", \"Seoul\", 2023, \"/content/2023/Korea/Busan\")\n",
        "\n",
        "# Verify the file has been moved (optional)\n",
        "if (destination_folder / sample_image_name).exists():\n",
        "  print(f\"Successfully moved '{sample_image_name}' to '{destination_folder}'\")\n",
        "else:\n",
        "  print(f\"Failed to move '{sample_image_name}'\")"
      ],
      "execution_count": null,
      "outputs": [
        {
          "output_type": "stream",
          "name": "stdout",
          "text": [
            "Moved '001_image2.jpg' from '/content/2023/Korea/Busan' to '/content/2023/Korea/Seoul'\n",
            "Successfully moved '001_image2.jpg' to '/content/2023/Korea/Seoul'\n"
          ]
        }
      ]
    }
  ]
}